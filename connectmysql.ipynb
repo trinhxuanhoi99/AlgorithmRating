{
 "metadata": {
  "language_info": {
   "codemirror_mode": {
    "name": "ipython",
    "version": 3
   },
   "file_extension": ".py",
   "mimetype": "text/x-python",
   "name": "python",
   "nbconvert_exporter": "python",
   "pygments_lexer": "ipython3",
   "version": "3.9.4"
  },
  "orig_nbformat": 2,
  "kernelspec": {
   "name": "python394jvsc74a57bd0ac59ebe37160ed0dfa835113d9b8498d9f09ceb179beaac4002f036b9467c963",
   "display_name": "Python 3.9.4 64-bit"
  },
  "metadata": {
   "interpreter": {
    "hash": "ac59ebe37160ed0dfa835113d9b8498d9f09ceb179beaac4002f036b9467c963"
   }
  }
 },
 "nbformat": 4,
 "nbformat_minor": 2,
 "cells": [
  {
   "cell_type": "code",
   "execution_count": 55,
   "metadata": {},
   "outputs": [
    {
     "output_type": "stream",
     "name": "stdout",
     "text": [
      "<mysql.connector.connection.MySQLConnection object at 0x0000022748191F40>\n51.0\n1.0\n<class 'float'>\nNone\n"
     ]
    }
   ],
   "source": [
    "import mysql.connector\n",
    "import pandas as pd\n",
    "import xlrd\n",
    "import numpy as np\n",
    "import openpyxl\n",
    "# tạo đối tượng connection\n",
    "myconn = mysql.connector.connect(host = \"localhost\", user = \"root\", \n",
    "    passwd = \"trinhhoi890\",auth_plugin='mysql_native_password',database=\"nds\")\n",
    "\n",
    "\n",
    "# in đối tượng connection ra màn hình\n",
    "print(myconn)\n",
    "\n",
    "\n",
    "# def AlogrithmRating(myconn):\n",
    "#     cursor = myconn.cursor()\n",
    "#     sql=\"Update item Set analyst2=avgrating\"\n",
    "#     cursor.execute(sql)\n",
    "#     myconn.commit()\n",
    "\n",
    "\n",
    "def abc(myconn):\n",
    "    v=[]\n",
    "    R=[]\n",
    "    kq=[]\n",
    "    cursor = myconn.cursor()\n",
    "    cursor.execute(\"SELECT SUM(star4) FROM item\")\n",
    "    c1=cursor.fetchone()[0]\n",
    "    cursor.execute(\"SELECT SUM(star5) FROM item\")\n",
    "    c2=cursor.fetchone()[0]\n",
    "    c=c1+c2\n",
    "    print(c)\n",
    "    cursor.execute(\"SELECT star1+star2+star3+star4+star5 from item\")\n",
    "    v=cursor.fetchall()\n",
    "    v = np.array(v)\n",
    "    m=float(1)\n",
    "    print(m)\n",
    "    print(type(float(m)))\n",
    "    cursor.execute(\"SELECT star1+star2+star3+star4+star5 as suma,avgrating,id FROM item\")\n",
    "    RV=cursor.fetchall()\n",
    "    for item in RV:\n",
    "        vi = item[0]\n",
    "        ri = item[1]\n",
    "        id = item[2]\n",
    "        abcd = 0\n",
    "        if vi + m == 0:\n",
    "            abcd = 0\n",
    "            kq.append(abcd)\n",
    "        elif ri==0:\n",
    "            abcd=0\n",
    "            kq.append(abcd)\n",
    "        else:\n",
    "            abcd = (vi/(vi+m))*ri+(m/(vi+m))*c\n",
    "            kq.append(abcd)\n",
    "        cursor.execute(f\"UPDATE item set analyst2={abcd} where id={id}\")\n",
    "    myconn.commit()\n",
    "print(abc(myconn))\n",
    "\n"
   ]
  }
 ]
}